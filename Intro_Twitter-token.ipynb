{
 "cells": [
  {
   "cell_type": "markdown",
   "id": "0d8943f1",
   "metadata": {},
   "source": [
    "# Twitter Daten über API holen\n",
    "\n",
    "In diesem Notebook werden wir uns verschiedene Möglichkeiten ansehen, Daten aus Twitter zu extrahieren. Dazu verwenden wir die Twitter RESTful API. Die meisten Leute tweeten über ihre Meinung oder Erfahrungen mit einem Ereignis, indem sie Nutzer taggen oder erwähnen oder Hashtags verwenden, damit die Leute Inhalte zu diesem Thema finden. Diese Daten können sowohl für Forschungszwecke als auch zur Gewinnung demografischer Erkenntnisse genutzt werden.\n",
    "\n",
    "Die Bibliothek **\"tweepy\"** ermöglicht komplexe Abfragen wie das Extrahieren aller Tweets zu einem bestimmten Thema in/nach einem bestimmten Zeitraum oder das Extrahieren von Tweets zu bestimmten Hashtags usw.\n",
    "\n",
    "In dieser Einführung werden wir folgende Schritte durchführen:\n",
    "\n",
    "1) Zuerst werden wir Tweets eines Users extrahieren.\n",
    "\n",
    "2) Dann werden wir Tweets mit Hashtags extrahieren.\n",
    "\n",
    "3) Schließlich speichern wir sie."
   ]
  },
  {
   "cell_type": "markdown",
   "id": "0d0dae37",
   "metadata": {},
   "source": [
    "## Twitter Entwickler-Konto\n",
    "\n",
    "1] Melden Sie sich an oder erstellen Sie ein Twitter-Konto unter https://apps.twitter.com/\n",
    "\n",
    "2] Klicken Sie auf \"Create a new project\" und fügen sie eine App hinzu\n",
    "\n",
    "3] Füllen Sie die geforderten Details wie App-Name usw. aus.\n",
    "\n",
    "4] Sobald die App erstellt wurde, erhalten Sie die geheimen Tokens.\n",
    "\n",
    "Bitte bewahren Sie diese Anmeldedaten auf, da wir sie später benötigen.\n",
    "\n",
    "Eine Anleitung finden Sie hier:\n",
    "\n",
    "https://developer.twitter.com/en/docs/tutorials/step-by-step-guide-to-making-your-first-request-to-the-twitter-api-v2\n",
    "\n",
    "**Frei sind:**\n",
    "\n",
    "500.000 Tweets pro Monat\n",
    "1 Projekt pro Konto\n",
    "1 App-Umgebung pro Projekt"
   ]
  },
  {
   "cell_type": "markdown",
   "id": "b053845b",
   "metadata": {},
   "source": [
    "## tweepy installieren"
   ]
  },
  {
   "cell_type": "code",
   "execution_count": 13,
   "id": "3d2ba8a3",
   "metadata": {},
   "outputs": [
    {
     "name": "stdout",
     "output_type": "stream",
     "text": [
      "Requirement already satisfied: tweepy in c:\\users\\victo\\pycharmprojects\\pythonproject3\\venv\\lib\\site-packages (4.10.1)\n",
      "Requirement already satisfied: requests<3,>=2.27.0 in c:\\users\\victo\\pycharmprojects\\pythonproject3\\venv\\lib\\site-packages (from tweepy) (2.28.1)\n",
      "Requirement already satisfied: oauthlib<4,>=3.2.0 in c:\\users\\victo\\pycharmprojects\\pythonproject3\\venv\\lib\\site-packages (from tweepy) (3.2.1)\n",
      "Requirement already satisfied: requests-oauthlib<2,>=1.2.0 in c:\\users\\victo\\pycharmprojects\\pythonproject3\\venv\\lib\\site-packages (from tweepy) (1.3.1)\n",
      "Requirement already satisfied: charset-normalizer<3,>=2 in c:\\users\\victo\\pycharmprojects\\pythonproject3\\venv\\lib\\site-packages (from requests<3,>=2.27.0->tweepy) (2.1.1)\n",
      "Requirement already satisfied: certifi>=2017.4.17 in c:\\users\\victo\\pycharmprojects\\pythonproject3\\venv\\lib\\site-packages (from requests<3,>=2.27.0->tweepy) (2022.9.24)\n",
      "Requirement already satisfied: urllib3<1.27,>=1.21.1 in c:\\users\\victo\\pycharmprojects\\pythonproject3\\venv\\lib\\site-packages (from requests<3,>=2.27.0->tweepy) (1.26.12)\n",
      "Requirement already satisfied: idna<4,>=2.5 in c:\\users\\victo\\pycharmprojects\\pythonproject3\\venv\\lib\\site-packages (from requests<3,>=2.27.0->tweepy) (3.4)\n"
     ]
    }
   ],
   "source": [
    "!pip install tweepy"
   ]
  },
  {
   "cell_type": "code",
   "execution_count": 14,
   "id": "4a1c17b5",
   "metadata": {},
   "outputs": [],
   "source": [
    "import tweepy"
   ]
  },
  {
   "cell_type": "markdown",
   "id": "4d56e953",
   "metadata": {},
   "source": [
    "Dann werden wir die Anmeldeinformationen in diesen 5 Variablen speichern."
   ]
  },
  {
   "cell_type": "code",
   "execution_count": 15,
   "id": "d11041b9",
   "metadata": {},
   "outputs": [],
   "source": [
    "consumer_key = 'rAri424FWZ1hu0lrqcqxmRRrE'\n",
    "consumer_secret = 'tGeK7LorWegGtN7O1cAvudKJvZhB6sxsBpWAl6MRQUqewQY9A8'\n",
    "access_token = '15608785-WiLKYmnsZSnWqaPtp1sXWL2DaYlCD7hee6KTmZn2D'\n",
    "access_token_secret = 'N8fTLHGaUHe5gE5LouinSggidFXvQCZLRC9Z92e5cE2GF'\n",
    "\n",
    "bearer_token =\"AAAAAAAAAAAAAAAAAAAAAPmwBgEAAAAAQS8WuSb0cO16ix0AMt%2B84xo9VNY%3Dz6NnS50kyisR5TgDoBpj8ff13g6EHnKGCt41IQt2zqvvSaSugf\""
   ]
  },
  {
   "cell_type": "markdown",
   "id": "7397d315",
   "metadata": {},
   "source": [
    "### Verbindung herstellen\n",
    "\n",
    "Mit diesen Anmeldeinformationen stellen wir nun eine erfolgreiche Verbindung als autorisierter Entwickler her und verbinden uns dann mit der API, mit der wir dann Daten abrufen können."
   ]
  },
  {
   "cell_type": "code",
   "execution_count": 16,
   "id": "2910a034",
   "metadata": {},
   "outputs": [],
   "source": [
    "import requests\n",
    "\n",
    "client = tweepy.Client( bearer_token=bearer_token, \n",
    "                        consumer_key=consumer_key, \n",
    "                        consumer_secret=consumer_secret, \n",
    "                        access_token=access_token, \n",
    "                        access_token_secret=access_token_secret, \n",
    "                        return_type = requests.Response,\n",
    "                        wait_on_rate_limit=True)"
   ]
  },
  {
   "cell_type": "markdown",
   "id": "650f6245",
   "metadata": {},
   "source": [
    "### Tweets von Armin Wolf"
   ]
  },
  {
   "cell_type": "code",
   "execution_count": 17,
   "id": "2fc7f00f",
   "metadata": {},
   "outputs": [],
   "source": [
    "# Define query\n",
    "query = 'from:ArminWolf -is:retweet'\n",
    "\n",
    "# get max. 100 tweets\n",
    "tweets = client.search_recent_tweets(query=query, \n",
    "                                    tweet_fields=[ 'created_at'],\n",
    "                                     max_results=100)"
   ]
  },
  {
   "cell_type": "code",
   "execution_count": 18,
   "id": "430802d9",
   "metadata": {},
   "outputs": [
    {
     "data": {
      "text/plain": "                 created_at edit_history_tweet_ids                   id  \\\n0  2022-10-17T15:02:34.000Z  [1582024276919492609]  1582024276919492609   \n1  2022-10-17T10:08:57.000Z  [1581950384829911040]  1581950384829911040   \n2  2022-10-17T09:41:13.000Z  [1581943403272540160]  1581943403272540160   \n3  2022-10-17T09:10:10.000Z  [1581935589984985090]  1581935589984985090   \n4  2022-10-17T08:58:08.000Z  [1581932563270053889]  1581932563270053889   \n\n                                                text  \n0  @auttoosmall @PeterFilzmaier @radiofm4 @ORF Ne...  \n1  @MarkusAllram Sorry, aber Sie übersehen da was...  \n2  @KurtWagner0815 Dann trennen wir uns doch einf...  \n3  @MarkusAllram Kritik ist also berechtigt, soba...  \n4  Die - wie immer großartige - Elfriede Hammerl ...  ",
      "text/html": "<div>\n<style scoped>\n    .dataframe tbody tr th:only-of-type {\n        vertical-align: middle;\n    }\n\n    .dataframe tbody tr th {\n        vertical-align: top;\n    }\n\n    .dataframe thead th {\n        text-align: right;\n    }\n</style>\n<table border=\"1\" class=\"dataframe\">\n  <thead>\n    <tr style=\"text-align: right;\">\n      <th></th>\n      <th>created_at</th>\n      <th>edit_history_tweet_ids</th>\n      <th>id</th>\n      <th>text</th>\n    </tr>\n  </thead>\n  <tbody>\n    <tr>\n      <th>0</th>\n      <td>2022-10-17T15:02:34.000Z</td>\n      <td>[1582024276919492609]</td>\n      <td>1582024276919492609</td>\n      <td>@auttoosmall @PeterFilzmaier @radiofm4 @ORF Ne...</td>\n    </tr>\n    <tr>\n      <th>1</th>\n      <td>2022-10-17T10:08:57.000Z</td>\n      <td>[1581950384829911040]</td>\n      <td>1581950384829911040</td>\n      <td>@MarkusAllram Sorry, aber Sie übersehen da was...</td>\n    </tr>\n    <tr>\n      <th>2</th>\n      <td>2022-10-17T09:41:13.000Z</td>\n      <td>[1581943403272540160]</td>\n      <td>1581943403272540160</td>\n      <td>@KurtWagner0815 Dann trennen wir uns doch einf...</td>\n    </tr>\n    <tr>\n      <th>3</th>\n      <td>2022-10-17T09:10:10.000Z</td>\n      <td>[1581935589984985090]</td>\n      <td>1581935589984985090</td>\n      <td>@MarkusAllram Kritik ist also berechtigt, soba...</td>\n    </tr>\n    <tr>\n      <th>4</th>\n      <td>2022-10-17T08:58:08.000Z</td>\n      <td>[1581932563270053889]</td>\n      <td>1581932563270053889</td>\n      <td>Die - wie immer großartige - Elfriede Hammerl ...</td>\n    </tr>\n  </tbody>\n</table>\n</div>"
     },
     "execution_count": 18,
     "metadata": {},
     "output_type": "execute_result"
    }
   ],
   "source": [
    "import pandas as pd\n",
    "\n",
    "# Save data as dictionary\n",
    "tweets_dict = tweets.json() \n",
    "\n",
    "# Extract \"data\" value from dictionary\n",
    "tweets_data = tweets_dict['data'] \n",
    "\n",
    "# Transform to pandas Dataframe\n",
    "\n",
    "df = pd.DataFrame(tweets_data) \n",
    "df.head()"
   ]
  },
  {
   "cell_type": "markdown",
   "id": "95e437bb",
   "metadata": {},
   "source": [
    "Wie man Abfragen baut findet sich unter:\n",
    "https://developer.twitter.com/en/docs/twitter-api/tweets/search/integrate/build-a-query"
   ]
  },
  {
   "cell_type": "markdown",
   "id": "c80e0be2",
   "metadata": {},
   "source": [
    "### Abfrage zu Hashtag SPÖ"
   ]
  },
  {
   "cell_type": "code",
   "execution_count": 19,
   "id": "4a1c947a",
   "metadata": {},
   "outputs": [
    {
     "data": {
      "text/plain": "                 created_at edit_history_tweet_ids                   id  \\\n0  2022-10-17T15:22:12.000Z  [1582029216949841921]  1582029216949841921   \n1  2022-10-17T15:16:34.000Z  [1582027799585751041]  1582027799585751041   \n2  2022-10-17T15:07:46.000Z  [1582025582807687168]  1582025582807687168   \n3  2022-10-17T14:56:47.000Z  [1582022819533422592]  1582022819533422592   \n4  2022-10-17T14:48:10.000Z  [1582020649761275904]  1582020649761275904   \n\n                                                text partei  \n0  @CSchwenniger @florianklenk @ArminWolf @KernCh...    SPÖ  \n1  @BlocknixBibi @buehel @volkspartei @diegruenen...    SPÖ  \n2  Nachtrag, \\nIn Sachen Nachhaltigkeit ist Öster...    SPÖ  \n3  @CSchwenniger Na, das hat Priorität: 86,2 % Wo...    SPÖ  \n4  Fracking im Weinviertel: Die zweifelhafte Hoff...    SPÖ  ",
      "text/html": "<div>\n<style scoped>\n    .dataframe tbody tr th:only-of-type {\n        vertical-align: middle;\n    }\n\n    .dataframe tbody tr th {\n        vertical-align: top;\n    }\n\n    .dataframe thead th {\n        text-align: right;\n    }\n</style>\n<table border=\"1\" class=\"dataframe\">\n  <thead>\n    <tr style=\"text-align: right;\">\n      <th></th>\n      <th>created_at</th>\n      <th>edit_history_tweet_ids</th>\n      <th>id</th>\n      <th>text</th>\n      <th>partei</th>\n    </tr>\n  </thead>\n  <tbody>\n    <tr>\n      <th>0</th>\n      <td>2022-10-17T15:22:12.000Z</td>\n      <td>[1582029216949841921]</td>\n      <td>1582029216949841921</td>\n      <td>@CSchwenniger @florianklenk @ArminWolf @KernCh...</td>\n      <td>SPÖ</td>\n    </tr>\n    <tr>\n      <th>1</th>\n      <td>2022-10-17T15:16:34.000Z</td>\n      <td>[1582027799585751041]</td>\n      <td>1582027799585751041</td>\n      <td>@BlocknixBibi @buehel @volkspartei @diegruenen...</td>\n      <td>SPÖ</td>\n    </tr>\n    <tr>\n      <th>2</th>\n      <td>2022-10-17T15:07:46.000Z</td>\n      <td>[1582025582807687168]</td>\n      <td>1582025582807687168</td>\n      <td>Nachtrag, \\nIn Sachen Nachhaltigkeit ist Öster...</td>\n      <td>SPÖ</td>\n    </tr>\n    <tr>\n      <th>3</th>\n      <td>2022-10-17T14:56:47.000Z</td>\n      <td>[1582022819533422592]</td>\n      <td>1582022819533422592</td>\n      <td>@CSchwenniger Na, das hat Priorität: 86,2 % Wo...</td>\n      <td>SPÖ</td>\n    </tr>\n    <tr>\n      <th>4</th>\n      <td>2022-10-17T14:48:10.000Z</td>\n      <td>[1582020649761275904]</td>\n      <td>1582020649761275904</td>\n      <td>Fracking im Weinviertel: Die zweifelhafte Hoff...</td>\n      <td>SPÖ</td>\n    </tr>\n  </tbody>\n</table>\n</div>"
     },
     "execution_count": 19,
     "metadata": {},
     "output_type": "execute_result"
    }
   ],
   "source": [
    "# Define query\n",
    "query = '#SPÖ -is:retweet'\n",
    "\n",
    "# get max. 100 tweets\n",
    "tweets = client.search_recent_tweets(query=query, \n",
    "                                    tweet_fields=['created_at'],\n",
    "                                     max_results=100)\n",
    "\n",
    "tweets_dict = tweets.json() \n",
    "tweets_data = tweets_dict['data'] \n",
    "df = pd.DataFrame(tweets_data) \n",
    "df['partei'] = \"SPÖ\"\n",
    "df.head()"
   ]
  },
  {
   "cell_type": "markdown",
   "id": "85a29799",
   "metadata": {},
   "source": [
    "### Abfrage zu allen Parteien"
   ]
  },
  {
   "cell_type": "code",
   "execution_count": 20,
   "id": "1b6dfa70",
   "metadata": {},
   "outputs": [
    {
     "data": {
      "text/plain": "                 created_at edit_history_tweet_ids                   id  \\\n0  2022-10-17T15:22:25.000Z  [1582029271799070721]  1582029271799070721   \n1  2022-10-17T15:22:23.000Z  [1582029261304524801]  1582029261304524801   \n2  2022-10-17T15:22:12.000Z  [1582029216949841921]  1582029216949841921   \n3  2022-10-17T15:21:04.000Z  [1582028930395279360]  1582028930395279360   \n4  2022-10-17T15:20:33.000Z  [1582028802649382918]  1582028802649382918   \n\n                                                text  \n0  RT @VDemokratie: Die #Gruenen verschenken auf ...  \n1  RT @FPOE_Raaba: Diese #Asylkrise trägt auch zu...  \n2  @CSchwenniger @florianklenk @ArminWolf @KernCh...  \n3  RT @ashr61: SKANDAL: Warum wird uns verschwieg...  \n4  RT @AfDLindemann: #Grüne sind jetzt Kriegspart...  ",
      "text/html": "<div>\n<style scoped>\n    .dataframe tbody tr th:only-of-type {\n        vertical-align: middle;\n    }\n\n    .dataframe tbody tr th {\n        vertical-align: top;\n    }\n\n    .dataframe thead th {\n        text-align: right;\n    }\n</style>\n<table border=\"1\" class=\"dataframe\">\n  <thead>\n    <tr style=\"text-align: right;\">\n      <th></th>\n      <th>created_at</th>\n      <th>edit_history_tweet_ids</th>\n      <th>id</th>\n      <th>text</th>\n    </tr>\n  </thead>\n  <tbody>\n    <tr>\n      <th>0</th>\n      <td>2022-10-17T15:22:25.000Z</td>\n      <td>[1582029271799070721]</td>\n      <td>1582029271799070721</td>\n      <td>RT @VDemokratie: Die #Gruenen verschenken auf ...</td>\n    </tr>\n    <tr>\n      <th>1</th>\n      <td>2022-10-17T15:22:23.000Z</td>\n      <td>[1582029261304524801]</td>\n      <td>1582029261304524801</td>\n      <td>RT @FPOE_Raaba: Diese #Asylkrise trägt auch zu...</td>\n    </tr>\n    <tr>\n      <th>2</th>\n      <td>2022-10-17T15:22:12.000Z</td>\n      <td>[1582029216949841921]</td>\n      <td>1582029216949841921</td>\n      <td>@CSchwenniger @florianklenk @ArminWolf @KernCh...</td>\n    </tr>\n    <tr>\n      <th>3</th>\n      <td>2022-10-17T15:21:04.000Z</td>\n      <td>[1582028930395279360]</td>\n      <td>1582028930395279360</td>\n      <td>RT @ashr61: SKANDAL: Warum wird uns verschwieg...</td>\n    </tr>\n    <tr>\n      <th>4</th>\n      <td>2022-10-17T15:20:33.000Z</td>\n      <td>[1582028802649382918]</td>\n      <td>1582028802649382918</td>\n      <td>RT @AfDLindemann: #Grüne sind jetzt Kriegspart...</td>\n    </tr>\n  </tbody>\n</table>\n</div>"
     },
     "execution_count": 20,
     "metadata": {},
     "output_type": "execute_result"
    }
   ],
   "source": [
    "# Define query\n",
    "query = '#SPÖ OR #ÖVP OR #FPÖ OR #Grüne OR #NEOS -is:retweet'\n",
    "\n",
    "# get max. 100 tweets\n",
    "tweets = client.search_recent_tweets(query=query, \n",
    "                                    tweet_fields=['created_at'],\n",
    "                                     max_results=100)\n",
    "\n",
    "tweets_dict = tweets.json() \n",
    "tweets_data = tweets_dict['data'] \n",
    "df = pd.DataFrame(tweets_data) \n",
    "df.head()"
   ]
  },
  {
   "cell_type": "markdown",
   "id": "44d45f9c",
   "metadata": {},
   "source": [
    "### Sentiment berechnen\n",
    "\n",
    "Dazu müssen wir uns auf der Seite \"https://gervader.p.rapidapi.com/rapidapi/sentiments\" registrieren und erhalten Zugangskeys."
   ]
  },
  {
   "cell_type": "code",
   "execution_count": 28,
   "id": "8b5b9db6",
   "metadata": {},
   "outputs": [
    {
     "data": {
      "text/plain": "                 created_at edit_history_tweet_ids                   id  \\\n0  2022-10-17T15:22:25.000Z  [1582029271799070721]  1582029271799070721   \n1  2022-10-17T15:22:23.000Z  [1582029261304524801]  1582029261304524801   \n2  2022-10-17T15:22:12.000Z  [1582029216949841921]  1582029216949841921   \n3  2022-10-17T15:21:04.000Z  [1582028930395279360]  1582028930395279360   \n4  2022-10-17T15:20:33.000Z  [1582028802649382918]  1582028802649382918   \n\n                                                text   score  \n0  RT @VDemokratie: Die #Gruenen verschenken auf ... -0.0772  \n1  RT @FPOE_Raaba: Diese #Asylkrise trägt auch zu...     0.0  \n2  @CSchwenniger @florianklenk @ArminWolf @KernCh...     Nan  \n3  RT @ashr61: SKANDAL: Warum wird uns verschwieg... -0.8452  \n4  RT @AfDLindemann: #Grüne sind jetzt Kriegspart...     0.0  ",
      "text/html": "<div>\n<style scoped>\n    .dataframe tbody tr th:only-of-type {\n        vertical-align: middle;\n    }\n\n    .dataframe tbody tr th {\n        vertical-align: top;\n    }\n\n    .dataframe thead th {\n        text-align: right;\n    }\n</style>\n<table border=\"1\" class=\"dataframe\">\n  <thead>\n    <tr style=\"text-align: right;\">\n      <th></th>\n      <th>created_at</th>\n      <th>edit_history_tweet_ids</th>\n      <th>id</th>\n      <th>text</th>\n      <th>score</th>\n    </tr>\n  </thead>\n  <tbody>\n    <tr>\n      <th>0</th>\n      <td>2022-10-17T15:22:25.000Z</td>\n      <td>[1582029271799070721]</td>\n      <td>1582029271799070721</td>\n      <td>RT @VDemokratie: Die #Gruenen verschenken auf ...</td>\n      <td>-0.0772</td>\n    </tr>\n    <tr>\n      <th>1</th>\n      <td>2022-10-17T15:22:23.000Z</td>\n      <td>[1582029261304524801]</td>\n      <td>1582029261304524801</td>\n      <td>RT @FPOE_Raaba: Diese #Asylkrise trägt auch zu...</td>\n      <td>0.0</td>\n    </tr>\n    <tr>\n      <th>2</th>\n      <td>2022-10-17T15:22:12.000Z</td>\n      <td>[1582029216949841921]</td>\n      <td>1582029216949841921</td>\n      <td>@CSchwenniger @florianklenk @ArminWolf @KernCh...</td>\n      <td>Nan</td>\n    </tr>\n    <tr>\n      <th>3</th>\n      <td>2022-10-17T15:21:04.000Z</td>\n      <td>[1582028930395279360]</td>\n      <td>1582028930395279360</td>\n      <td>RT @ashr61: SKANDAL: Warum wird uns verschwieg...</td>\n      <td>-0.8452</td>\n    </tr>\n    <tr>\n      <th>4</th>\n      <td>2022-10-17T15:20:33.000Z</td>\n      <td>[1582028802649382918]</td>\n      <td>1582028802649382918</td>\n      <td>RT @AfDLindemann: #Grüne sind jetzt Kriegspart...</td>\n      <td>0.0</td>\n    </tr>\n  </tbody>\n</table>\n</div>"
     },
     "execution_count": 28,
     "metadata": {},
     "output_type": "execute_result"
    }
   ],
   "source": [
    "import json\n",
    "\n",
    "def calc_sentiment(text):\n",
    "    url = \"https://gervader.p.rapidapi.com/rapidapi/sentiments\"\n",
    "\n",
    "    payload = {\"sentence\": text}\n",
    "    headers = {\n",
    "        \"content-type\": \"application/json\",\n",
    "        \"X-RapidAPI-Key\": \"e6f494f91fmsh2adb2af236a68afp1bc007jsnccaca69a2eca\",\n",
    "        \"X-RapidAPI-Host\": \"gervader.p.rapidapi.com\"\n",
    "    }\n",
    "\n",
    "    response = requests.request(\"POST\", url, json=payload, headers=headers)\n",
    "    if response.status_code == 200:\n",
    "        json_data = json.loads(response.text)\n",
    "        score = json_data['ratings']['compound']\n",
    "    else:\n",
    "        score = 'Nan'\n",
    "    return score\n",
    "\n",
    "df[\"score\"] = df[\"text\"].map(lambda x : calc_sentiment(x))\n",
    "df.head()"
   ]
  },
  {
   "cell_type": "code",
   "execution_count": 22,
   "id": "ea2396f4",
   "metadata": {},
   "outputs": [
    {
     "data": {
      "text/plain": "                  created_at edit_history_tweet_ids                   id  \\\n95  2022-10-17T14:16:07.000Z  [1582012585200975872]  1582012585200975872   \n96  2022-10-17T14:15:30.000Z  [1582012428858294272]  1582012428858294272   \n97  2022-10-17T14:15:15.000Z  [1582012369588264962]  1582012369588264962   \n98  2022-10-17T14:14:37.000Z  [1582012208933851136]  1582012208933851136   \n99  2022-10-17T14:13:54.000Z  [1582012029594140676]  1582012029594140676   \n\n                                                 text   score  \n95  Zu viel Statistik für #FPÖ Insider https://t.c...     0.0  \n96  RT @HamidaKhatip: Die #Gruene Sekte macht Poli... -0.0258  \n97  RT @Joe_Kicrows: @burschesvejk @exxpressat Unt...  0.4215  \n98  Deutschland, Winter 2022/2023...? 😳\\n#GrünerMi...     0.0  \n99  @KosterIm @b_gabelle @rendiwagner @KernChri @W...  0.4019  ",
      "text/html": "<div>\n<style scoped>\n    .dataframe tbody tr th:only-of-type {\n        vertical-align: middle;\n    }\n\n    .dataframe tbody tr th {\n        vertical-align: top;\n    }\n\n    .dataframe thead th {\n        text-align: right;\n    }\n</style>\n<table border=\"1\" class=\"dataframe\">\n  <thead>\n    <tr style=\"text-align: right;\">\n      <th></th>\n      <th>created_at</th>\n      <th>edit_history_tweet_ids</th>\n      <th>id</th>\n      <th>text</th>\n      <th>score</th>\n    </tr>\n  </thead>\n  <tbody>\n    <tr>\n      <th>95</th>\n      <td>2022-10-17T14:16:07.000Z</td>\n      <td>[1582012585200975872]</td>\n      <td>1582012585200975872</td>\n      <td>Zu viel Statistik für #FPÖ Insider https://t.c...</td>\n      <td>0.0</td>\n    </tr>\n    <tr>\n      <th>96</th>\n      <td>2022-10-17T14:15:30.000Z</td>\n      <td>[1582012428858294272]</td>\n      <td>1582012428858294272</td>\n      <td>RT @HamidaKhatip: Die #Gruene Sekte macht Poli...</td>\n      <td>-0.0258</td>\n    </tr>\n    <tr>\n      <th>97</th>\n      <td>2022-10-17T14:15:15.000Z</td>\n      <td>[1582012369588264962]</td>\n      <td>1582012369588264962</td>\n      <td>RT @Joe_Kicrows: @burschesvejk @exxpressat Unt...</td>\n      <td>0.4215</td>\n    </tr>\n    <tr>\n      <th>98</th>\n      <td>2022-10-17T14:14:37.000Z</td>\n      <td>[1582012208933851136]</td>\n      <td>1582012208933851136</td>\n      <td>Deutschland, Winter 2022/2023...? 😳\\n#GrünerMi...</td>\n      <td>0.0</td>\n    </tr>\n    <tr>\n      <th>99</th>\n      <td>2022-10-17T14:13:54.000Z</td>\n      <td>[1582012029594140676]</td>\n      <td>1582012029594140676</td>\n      <td>@KosterIm @b_gabelle @rendiwagner @KernChri @W...</td>\n      <td>0.4019</td>\n    </tr>\n  </tbody>\n</table>\n</div>"
     },
     "execution_count": 22,
     "metadata": {},
     "output_type": "execute_result"
    }
   ],
   "source": [
    "df.tail()"
   ]
  },
  {
   "cell_type": "markdown",
   "id": "48098913",
   "metadata": {},
   "source": [
    "## Speichern der Tweets\n",
    "\n",
    "Als Datei"
   ]
  },
  {
   "cell_type": "code",
   "execution_count": 23,
   "id": "d1abdd07",
   "metadata": {},
   "outputs": [],
   "source": [
    "df.to_csv('tweets.csv', index=False, sep=\";\")"
   ]
  },
  {
   "cell_type": "markdown",
   "id": "9d8ade2a",
   "metadata": {},
   "source": [
    "Als Datenbank"
   ]
  },
  {
   "cell_type": "code",
   "execution_count": 27,
   "id": "f83d9ced",
   "metadata": {
    "pycharm": {
     "name": "#%%\n"
    }
   },
   "outputs": [
    {
     "ename": "InterfaceError",
     "evalue": "(sqlite3.InterfaceError) Error binding parameter 2 - probably unsupported type.\n[SQL: INSERT INTO tweets_data (\"index\", created_at, edit_history_tweet_ids, id, text, score) VALUES (?, ?, ?, ?, ?, ?)]\n[parameters: ((0, '2022-10-17T15:22:25.000Z', ['1582029271799070721'], '1582029271799070721', 'RT @VDemokratie: Die #Gruenen verschenken auf dem #bdk22 Pflanzen, die ihren Ursprung in #Brasilien haben. Diese sind schwer zu pflegen und…', -0.0772), (1, '2022-10-17T15:22:23.000Z', ['1582029261304524801'], '1582029261304524801', 'RT @FPOE_Raaba: Diese #Asylkrise trägt auch zu 50 Prozent die Handschrift der #Grünen! \\n#ÖVP\\n#Nehammer\\n#Kogler\\n#Migranten https://t.co/X5bh…', 0.0), (2, '2022-10-17T15:22:12.000Z', ['1582029216949841921'], '1582029216949841921', '@CSchwenniger @florianklenk @ArminWolf @KernChri @GNiederm Ich Akzeptiere deine Meinung!  Wie schon zuvor geschrieben, in einer #SPÖ kannst du nur ve ... (39 characters truncated) ... tein-Affäre  2017 bis 2001\\nDr. Heinrich Gross-Affäre NS-Täter 1945 - 2005*\\nLucona-Affäre 1977 bis 1992\\nKindesmissbrauch-Affäre der 60er 70er Jahre', 'Nan'), (3, '2022-10-17T15:21:04.000Z', ['1582028930395279360'], '1582028930395279360', 'RT @ashr61: SKANDAL: Warum wird uns verschwiegen! #CDU, #SPD, #FDP und #Grüne wollen Deutschland vernichten.\\nAnders ist es nicht zu erkläre…', -0.8452), (4, '2022-10-17T15:20:33.000Z', ['1582028802649382918'], '1582028802649382918', 'RT @AfDLindemann: #Grüne sind jetzt Kriegspartei. Gestern hat der Bundesparteitag der Grünen für Waffenlieferungen in fie #Ukraine gestimmt…', 0.0), (5, '2022-10-17T15:19:59.000Z', ['1582028660496007171'], '1582028660496007171', 'Früher: #Grüne liefern keine Waffen, weil sie Friedenspartei sind. Jetzt #Waffenlieferungen, weil Friedenspartei.\\nWidersprüchlicher geht es nicht mehr.', -0.3818), (6, '2022-10-17T15:19:49.000Z', ['1582028614866178048'], '1582028614866178048', 'RT @W_Munny001: @julia_jusa1 Ja klar, siehe #Ampel/#Grüne', 0.3182), (7, '2022-10-17T15:18:21.000Z', ['1582028245905461252'], '1582028245905461252', 'RT @Axel_Steier: 6 Jahre für @giz_gmbh gearbeitet, Hazara, Frau, verfolgt von Taliban – Aufnahme abgelehnt von der Bundesregierung. Danke f…', 0.1531)  ... displaying 10 of 100 total bound parameter sets ...  (98, '2022-10-17T14:14:37.000Z', ['1582012208933851136'], '1582012208933851136', 'Deutschland, Winter 2022/2023...? 😳\\n#GrünerMist #Grüne https://t.co/RlChQVGtz7', 0.0), (99, '2022-10-17T14:13:54.000Z', ['1582012029594140676'], '1582012029594140676', '@KosterIm @b_gabelle @rendiwagner @KernChri @WKogler Politisches Kalkül war der #spö #prw immer schon wichtiger als redliche Arbeit', 0.4019))]\n(Background on this error at: https://sqlalche.me/e/14/rvf5)",
     "output_type": "error",
     "traceback": [
      "\u001B[1;31m---------------------------------------------------------------------------\u001B[0m",
      "\u001B[1;31mInterfaceError\u001B[0m                            Traceback (most recent call last)",
      "File \u001B[1;32mc:\\users\\victo\\pycharmprojects\\pythonproject3\\venv\\lib\\site-packages\\sqlalchemy\\engine\\base.py:1880\u001B[0m, in \u001B[0;36mConnection._execute_context\u001B[1;34m(self, dialect, constructor, statement, parameters, execution_options, *args, **kw)\u001B[0m\n\u001B[0;32m   1879\u001B[0m     \u001B[38;5;28;01mif\u001B[39;00m \u001B[38;5;129;01mnot\u001B[39;00m evt_handled:\n\u001B[1;32m-> 1880\u001B[0m         \u001B[38;5;28;43mself\u001B[39;49m\u001B[38;5;241;43m.\u001B[39;49m\u001B[43mdialect\u001B[49m\u001B[38;5;241;43m.\u001B[39;49m\u001B[43mdo_executemany\u001B[49m\u001B[43m(\u001B[49m\n\u001B[0;32m   1881\u001B[0m \u001B[43m            \u001B[49m\u001B[43mcursor\u001B[49m\u001B[43m,\u001B[49m\u001B[43m \u001B[49m\u001B[43mstatement\u001B[49m\u001B[43m,\u001B[49m\u001B[43m \u001B[49m\u001B[43mparameters\u001B[49m\u001B[43m,\u001B[49m\u001B[43m \u001B[49m\u001B[43mcontext\u001B[49m\n\u001B[0;32m   1882\u001B[0m \u001B[43m        \u001B[49m\u001B[43m)\u001B[49m\n\u001B[0;32m   1883\u001B[0m \u001B[38;5;28;01melif\u001B[39;00m \u001B[38;5;129;01mnot\u001B[39;00m parameters \u001B[38;5;129;01mand\u001B[39;00m context\u001B[38;5;241m.\u001B[39mno_parameters:\n",
      "File \u001B[1;32mc:\\users\\victo\\pycharmprojects\\pythonproject3\\venv\\lib\\site-packages\\sqlalchemy\\engine\\default.py:733\u001B[0m, in \u001B[0;36mDefaultDialect.do_executemany\u001B[1;34m(self, cursor, statement, parameters, context)\u001B[0m\n\u001B[0;32m    732\u001B[0m \u001B[38;5;28;01mdef\u001B[39;00m \u001B[38;5;21mdo_executemany\u001B[39m(\u001B[38;5;28mself\u001B[39m, cursor, statement, parameters, context\u001B[38;5;241m=\u001B[39m\u001B[38;5;28;01mNone\u001B[39;00m):\n\u001B[1;32m--> 733\u001B[0m     \u001B[43mcursor\u001B[49m\u001B[38;5;241;43m.\u001B[39;49m\u001B[43mexecutemany\u001B[49m\u001B[43m(\u001B[49m\u001B[43mstatement\u001B[49m\u001B[43m,\u001B[49m\u001B[43m \u001B[49m\u001B[43mparameters\u001B[49m\u001B[43m)\u001B[49m\n",
      "\u001B[1;31mInterfaceError\u001B[0m: Error binding parameter 2 - probably unsupported type.",
      "\nThe above exception was the direct cause of the following exception:\n",
      "\u001B[1;31mInterfaceError\u001B[0m                            Traceback (most recent call last)",
      "Cell \u001B[1;32mIn [27], line 10\u001B[0m\n\u001B[0;32m      7\u001B[0m      create_database(engine\u001B[38;5;241m.\u001B[39murl)\n\u001B[0;32m      9\u001B[0m \u001B[38;5;66;03m# Tweet in die Datenbank speichern\u001B[39;00m\n\u001B[1;32m---> 10\u001B[0m \u001B[43mdf\u001B[49m\u001B[38;5;241;43m.\u001B[39;49m\u001B[43mto_sql\u001B[49m\u001B[43m(\u001B[49m\u001B[38;5;124;43m'\u001B[39;49m\u001B[38;5;124;43mtweets_data\u001B[39;49m\u001B[38;5;124;43m'\u001B[39;49m\u001B[43m,\u001B[49m\u001B[43m \u001B[49m\u001B[43mcon\u001B[49m\u001B[38;5;241;43m=\u001B[39;49m\u001B[43mengine\u001B[49m\u001B[43m,\u001B[49m\u001B[43m \u001B[49m\u001B[43mif_exists\u001B[49m\u001B[38;5;241;43m=\u001B[39;49m\u001B[38;5;124;43m'\u001B[39;49m\u001B[38;5;124;43mappend\u001B[39;49m\u001B[38;5;124;43m'\u001B[39;49m\u001B[43m)\u001B[49m\n",
      "File \u001B[1;32mc:\\users\\victo\\pycharmprojects\\pythonproject3\\venv\\lib\\site-packages\\pandas\\core\\generic.py:2986\u001B[0m, in \u001B[0;36mNDFrame.to_sql\u001B[1;34m(self, name, con, schema, if_exists, index, index_label, chunksize, dtype, method)\u001B[0m\n\u001B[0;32m   2829\u001B[0m \u001B[38;5;124;03m\"\"\"\u001B[39;00m\n\u001B[0;32m   2830\u001B[0m \u001B[38;5;124;03mWrite records stored in a DataFrame to a SQL database.\u001B[39;00m\n\u001B[0;32m   2831\u001B[0m \n\u001B[1;32m   (...)\u001B[0m\n\u001B[0;32m   2982\u001B[0m \u001B[38;5;124;03m[(1,), (None,), (2,)]\u001B[39;00m\n\u001B[0;32m   2983\u001B[0m \u001B[38;5;124;03m\"\"\"\u001B[39;00m  \u001B[38;5;66;03m# noqa:E501\u001B[39;00m\n\u001B[0;32m   2984\u001B[0m \u001B[38;5;28;01mfrom\u001B[39;00m \u001B[38;5;21;01mpandas\u001B[39;00m\u001B[38;5;21;01m.\u001B[39;00m\u001B[38;5;21;01mio\u001B[39;00m \u001B[38;5;28;01mimport\u001B[39;00m sql\n\u001B[1;32m-> 2986\u001B[0m \u001B[38;5;28;01mreturn\u001B[39;00m \u001B[43msql\u001B[49m\u001B[38;5;241;43m.\u001B[39;49m\u001B[43mto_sql\u001B[49m\u001B[43m(\u001B[49m\n\u001B[0;32m   2987\u001B[0m \u001B[43m    \u001B[49m\u001B[38;5;28;43mself\u001B[39;49m\u001B[43m,\u001B[49m\n\u001B[0;32m   2988\u001B[0m \u001B[43m    \u001B[49m\u001B[43mname\u001B[49m\u001B[43m,\u001B[49m\n\u001B[0;32m   2989\u001B[0m \u001B[43m    \u001B[49m\u001B[43mcon\u001B[49m\u001B[43m,\u001B[49m\n\u001B[0;32m   2990\u001B[0m \u001B[43m    \u001B[49m\u001B[43mschema\u001B[49m\u001B[38;5;241;43m=\u001B[39;49m\u001B[43mschema\u001B[49m\u001B[43m,\u001B[49m\n\u001B[0;32m   2991\u001B[0m \u001B[43m    \u001B[49m\u001B[43mif_exists\u001B[49m\u001B[38;5;241;43m=\u001B[39;49m\u001B[43mif_exists\u001B[49m\u001B[43m,\u001B[49m\n\u001B[0;32m   2992\u001B[0m \u001B[43m    \u001B[49m\u001B[43mindex\u001B[49m\u001B[38;5;241;43m=\u001B[39;49m\u001B[43mindex\u001B[49m\u001B[43m,\u001B[49m\n\u001B[0;32m   2993\u001B[0m \u001B[43m    \u001B[49m\u001B[43mindex_label\u001B[49m\u001B[38;5;241;43m=\u001B[39;49m\u001B[43mindex_label\u001B[49m\u001B[43m,\u001B[49m\n\u001B[0;32m   2994\u001B[0m \u001B[43m    \u001B[49m\u001B[43mchunksize\u001B[49m\u001B[38;5;241;43m=\u001B[39;49m\u001B[43mchunksize\u001B[49m\u001B[43m,\u001B[49m\n\u001B[0;32m   2995\u001B[0m \u001B[43m    \u001B[49m\u001B[43mdtype\u001B[49m\u001B[38;5;241;43m=\u001B[39;49m\u001B[43mdtype\u001B[49m\u001B[43m,\u001B[49m\n\u001B[0;32m   2996\u001B[0m \u001B[43m    \u001B[49m\u001B[43mmethod\u001B[49m\u001B[38;5;241;43m=\u001B[39;49m\u001B[43mmethod\u001B[49m\u001B[43m,\u001B[49m\n\u001B[0;32m   2997\u001B[0m \u001B[43m\u001B[49m\u001B[43m)\u001B[49m\n",
      "File \u001B[1;32mc:\\users\\victo\\pycharmprojects\\pythonproject3\\venv\\lib\\site-packages\\pandas\\io\\sql.py:696\u001B[0m, in \u001B[0;36mto_sql\u001B[1;34m(frame, name, con, schema, if_exists, index, index_label, chunksize, dtype, method, engine, **engine_kwargs)\u001B[0m\n\u001B[0;32m    691\u001B[0m \u001B[38;5;28;01melif\u001B[39;00m \u001B[38;5;129;01mnot\u001B[39;00m \u001B[38;5;28misinstance\u001B[39m(frame, DataFrame):\n\u001B[0;32m    692\u001B[0m     \u001B[38;5;28;01mraise\u001B[39;00m \u001B[38;5;167;01mNotImplementedError\u001B[39;00m(\n\u001B[0;32m    693\u001B[0m         \u001B[38;5;124m\"\u001B[39m\u001B[38;5;124m'\u001B[39m\u001B[38;5;124mframe\u001B[39m\u001B[38;5;124m'\u001B[39m\u001B[38;5;124m argument should be either a Series or a DataFrame\u001B[39m\u001B[38;5;124m\"\u001B[39m\n\u001B[0;32m    694\u001B[0m     )\n\u001B[1;32m--> 696\u001B[0m \u001B[38;5;28;01mreturn\u001B[39;00m pandas_sql\u001B[38;5;241m.\u001B[39mto_sql(\n\u001B[0;32m    697\u001B[0m     frame,\n\u001B[0;32m    698\u001B[0m     name,\n\u001B[0;32m    699\u001B[0m     if_exists\u001B[38;5;241m=\u001B[39mif_exists,\n\u001B[0;32m    700\u001B[0m     index\u001B[38;5;241m=\u001B[39mindex,\n\u001B[0;32m    701\u001B[0m     index_label\u001B[38;5;241m=\u001B[39mindex_label,\n\u001B[0;32m    702\u001B[0m     schema\u001B[38;5;241m=\u001B[39mschema,\n\u001B[0;32m    703\u001B[0m     chunksize\u001B[38;5;241m=\u001B[39mchunksize,\n\u001B[0;32m    704\u001B[0m     dtype\u001B[38;5;241m=\u001B[39mdtype,\n\u001B[0;32m    705\u001B[0m     method\u001B[38;5;241m=\u001B[39mmethod,\n\u001B[0;32m    706\u001B[0m     engine\u001B[38;5;241m=\u001B[39mengine,\n\u001B[0;32m    707\u001B[0m     \u001B[38;5;241m*\u001B[39m\u001B[38;5;241m*\u001B[39mengine_kwargs,\n\u001B[0;32m    708\u001B[0m )\n",
      "File \u001B[1;32mc:\\users\\victo\\pycharmprojects\\pythonproject3\\venv\\lib\\site-packages\\pandas\\io\\sql.py:1739\u001B[0m, in \u001B[0;36mSQLDatabase.to_sql\u001B[1;34m(self, frame, name, if_exists, index, index_label, schema, chunksize, dtype, method, engine, **engine_kwargs)\u001B[0m\n\u001B[0;32m   1727\u001B[0m sql_engine \u001B[38;5;241m=\u001B[39m get_engine(engine)\n\u001B[0;32m   1729\u001B[0m table \u001B[38;5;241m=\u001B[39m \u001B[38;5;28mself\u001B[39m\u001B[38;5;241m.\u001B[39mprep_table(\n\u001B[0;32m   1730\u001B[0m     frame\u001B[38;5;241m=\u001B[39mframe,\n\u001B[0;32m   1731\u001B[0m     name\u001B[38;5;241m=\u001B[39mname,\n\u001B[1;32m   (...)\u001B[0m\n\u001B[0;32m   1736\u001B[0m     dtype\u001B[38;5;241m=\u001B[39mdtype,\n\u001B[0;32m   1737\u001B[0m )\n\u001B[1;32m-> 1739\u001B[0m total_inserted \u001B[38;5;241m=\u001B[39m sql_engine\u001B[38;5;241m.\u001B[39minsert_records(\n\u001B[0;32m   1740\u001B[0m     table\u001B[38;5;241m=\u001B[39mtable,\n\u001B[0;32m   1741\u001B[0m     con\u001B[38;5;241m=\u001B[39m\u001B[38;5;28mself\u001B[39m\u001B[38;5;241m.\u001B[39mconnectable,\n\u001B[0;32m   1742\u001B[0m     frame\u001B[38;5;241m=\u001B[39mframe,\n\u001B[0;32m   1743\u001B[0m     name\u001B[38;5;241m=\u001B[39mname,\n\u001B[0;32m   1744\u001B[0m     index\u001B[38;5;241m=\u001B[39mindex,\n\u001B[0;32m   1745\u001B[0m     schema\u001B[38;5;241m=\u001B[39mschema,\n\u001B[0;32m   1746\u001B[0m     chunksize\u001B[38;5;241m=\u001B[39mchunksize,\n\u001B[0;32m   1747\u001B[0m     method\u001B[38;5;241m=\u001B[39mmethod,\n\u001B[0;32m   1748\u001B[0m     \u001B[38;5;241m*\u001B[39m\u001B[38;5;241m*\u001B[39mengine_kwargs,\n\u001B[0;32m   1749\u001B[0m )\n\u001B[0;32m   1751\u001B[0m \u001B[38;5;28mself\u001B[39m\u001B[38;5;241m.\u001B[39mcheck_case_sensitive(name\u001B[38;5;241m=\u001B[39mname, schema\u001B[38;5;241m=\u001B[39mschema)\n\u001B[0;32m   1752\u001B[0m \u001B[38;5;28;01mreturn\u001B[39;00m total_inserted\n",
      "File \u001B[1;32mc:\\users\\victo\\pycharmprojects\\pythonproject3\\venv\\lib\\site-packages\\pandas\\io\\sql.py:1336\u001B[0m, in \u001B[0;36mSQLAlchemyEngine.insert_records\u001B[1;34m(self, table, con, frame, name, index, schema, chunksize, method, **engine_kwargs)\u001B[0m\n\u001B[0;32m   1334\u001B[0m     \u001B[38;5;28;01mraise\u001B[39;00m \u001B[38;5;167;01mValueError\u001B[39;00m(\u001B[38;5;124m\"\u001B[39m\u001B[38;5;124minf cannot be used with MySQL\u001B[39m\u001B[38;5;124m\"\u001B[39m) \u001B[38;5;28;01mfrom\u001B[39;00m \u001B[38;5;21;01merr\u001B[39;00m\n\u001B[0;32m   1335\u001B[0m \u001B[38;5;28;01melse\u001B[39;00m:\n\u001B[1;32m-> 1336\u001B[0m     \u001B[38;5;28;01mraise\u001B[39;00m err\n",
      "File \u001B[1;32mc:\\users\\victo\\pycharmprojects\\pythonproject3\\venv\\lib\\site-packages\\pandas\\io\\sql.py:1326\u001B[0m, in \u001B[0;36mSQLAlchemyEngine.insert_records\u001B[1;34m(self, table, con, frame, name, index, schema, chunksize, method, **engine_kwargs)\u001B[0m\n\u001B[0;32m   1323\u001B[0m \u001B[38;5;28;01mfrom\u001B[39;00m \u001B[38;5;21;01msqlalchemy\u001B[39;00m \u001B[38;5;28;01mimport\u001B[39;00m exc\n\u001B[0;32m   1325\u001B[0m \u001B[38;5;28;01mtry\u001B[39;00m:\n\u001B[1;32m-> 1326\u001B[0m     \u001B[38;5;28;01mreturn\u001B[39;00m \u001B[43mtable\u001B[49m\u001B[38;5;241;43m.\u001B[39;49m\u001B[43minsert\u001B[49m\u001B[43m(\u001B[49m\u001B[43mchunksize\u001B[49m\u001B[38;5;241;43m=\u001B[39;49m\u001B[43mchunksize\u001B[49m\u001B[43m,\u001B[49m\u001B[43m \u001B[49m\u001B[43mmethod\u001B[49m\u001B[38;5;241;43m=\u001B[39;49m\u001B[43mmethod\u001B[49m\u001B[43m)\u001B[49m\n\u001B[0;32m   1327\u001B[0m \u001B[38;5;28;01mexcept\u001B[39;00m exc\u001B[38;5;241m.\u001B[39mSQLAlchemyError \u001B[38;5;28;01mas\u001B[39;00m err:\n\u001B[0;32m   1328\u001B[0m     \u001B[38;5;66;03m# GH34431\u001B[39;00m\n\u001B[0;32m   1329\u001B[0m     \u001B[38;5;66;03m# https://stackoverflow.com/a/67358288/6067848\u001B[39;00m\n\u001B[0;32m   1330\u001B[0m     msg \u001B[38;5;241m=\u001B[39m \u001B[38;5;124mr\u001B[39m\u001B[38;5;124m\"\"\"\u001B[39m\u001B[38;5;124m(\u001B[39m\u001B[38;5;124m\\\u001B[39m\u001B[38;5;124m(1054, \u001B[39m\u001B[38;5;124m\"\u001B[39m\u001B[38;5;124mUnknown column \u001B[39m\u001B[38;5;124m'\u001B[39m\u001B[38;5;124minf(e0)?\u001B[39m\u001B[38;5;124m'\u001B[39m\u001B[38;5;124m in \u001B[39m\u001B[38;5;124m'\u001B[39m\u001B[38;5;124mfield list\u001B[39m\u001B[38;5;124m'\u001B[39m\u001B[38;5;124m\"\u001B[39m\u001B[38;5;124m\\\u001B[39m\u001B[38;5;124m))(?#\u001B[39m\n\u001B[0;32m   1331\u001B[0m \u001B[38;5;124m    )|inf can not be used with MySQL\u001B[39m\u001B[38;5;124m\"\"\"\u001B[39m\n",
      "File \u001B[1;32mc:\\users\\victo\\pycharmprojects\\pythonproject3\\venv\\lib\\site-packages\\pandas\\io\\sql.py:947\u001B[0m, in \u001B[0;36mSQLTable.insert\u001B[1;34m(self, chunksize, method)\u001B[0m\n\u001B[0;32m    944\u001B[0m     \u001B[38;5;28;01mbreak\u001B[39;00m\n\u001B[0;32m    946\u001B[0m chunk_iter \u001B[38;5;241m=\u001B[39m \u001B[38;5;28mzip\u001B[39m(\u001B[38;5;241m*\u001B[39m(arr[start_i:end_i] \u001B[38;5;28;01mfor\u001B[39;00m arr \u001B[38;5;129;01min\u001B[39;00m data_list))\n\u001B[1;32m--> 947\u001B[0m num_inserted \u001B[38;5;241m=\u001B[39m \u001B[43mexec_insert\u001B[49m\u001B[43m(\u001B[49m\u001B[43mconn\u001B[49m\u001B[43m,\u001B[49m\u001B[43m \u001B[49m\u001B[43mkeys\u001B[49m\u001B[43m,\u001B[49m\u001B[43m \u001B[49m\u001B[43mchunk_iter\u001B[49m\u001B[43m)\u001B[49m\n\u001B[0;32m    948\u001B[0m \u001B[38;5;66;03m# GH 46891\u001B[39;00m\n\u001B[0;32m    949\u001B[0m \u001B[38;5;28;01mif\u001B[39;00m is_integer(num_inserted):\n",
      "File \u001B[1;32mc:\\users\\victo\\pycharmprojects\\pythonproject3\\venv\\lib\\site-packages\\pandas\\io\\sql.py:854\u001B[0m, in \u001B[0;36mSQLTable._execute_insert\u001B[1;34m(self, conn, keys, data_iter)\u001B[0m\n\u001B[0;32m    842\u001B[0m \u001B[38;5;124;03m\"\"\"\u001B[39;00m\n\u001B[0;32m    843\u001B[0m \u001B[38;5;124;03mExecute SQL statement inserting data\u001B[39;00m\n\u001B[0;32m    844\u001B[0m \n\u001B[1;32m   (...)\u001B[0m\n\u001B[0;32m    851\u001B[0m \u001B[38;5;124;03m   Each item contains a list of values to be inserted\u001B[39;00m\n\u001B[0;32m    852\u001B[0m \u001B[38;5;124;03m\"\"\"\u001B[39;00m\n\u001B[0;32m    853\u001B[0m data \u001B[38;5;241m=\u001B[39m [\u001B[38;5;28mdict\u001B[39m(\u001B[38;5;28mzip\u001B[39m(keys, row)) \u001B[38;5;28;01mfor\u001B[39;00m row \u001B[38;5;129;01min\u001B[39;00m data_iter]\n\u001B[1;32m--> 854\u001B[0m result \u001B[38;5;241m=\u001B[39m \u001B[43mconn\u001B[49m\u001B[38;5;241;43m.\u001B[39;49m\u001B[43mexecute\u001B[49m\u001B[43m(\u001B[49m\u001B[38;5;28;43mself\u001B[39;49m\u001B[38;5;241;43m.\u001B[39;49m\u001B[43mtable\u001B[49m\u001B[38;5;241;43m.\u001B[39;49m\u001B[43minsert\u001B[49m\u001B[43m(\u001B[49m\u001B[43m)\u001B[49m\u001B[43m,\u001B[49m\u001B[43m \u001B[49m\u001B[43mdata\u001B[49m\u001B[43m)\u001B[49m\n\u001B[0;32m    855\u001B[0m \u001B[38;5;28;01mreturn\u001B[39;00m result\u001B[38;5;241m.\u001B[39mrowcount\n",
      "File \u001B[1;32mc:\\users\\victo\\pycharmprojects\\pythonproject3\\venv\\lib\\site-packages\\sqlalchemy\\engine\\base.py:1380\u001B[0m, in \u001B[0;36mConnection.execute\u001B[1;34m(self, statement, *multiparams, **params)\u001B[0m\n\u001B[0;32m   1376\u001B[0m     util\u001B[38;5;241m.\u001B[39mraise_(\n\u001B[0;32m   1377\u001B[0m         exc\u001B[38;5;241m.\u001B[39mObjectNotExecutableError(statement), replace_context\u001B[38;5;241m=\u001B[39merr\n\u001B[0;32m   1378\u001B[0m     )\n\u001B[0;32m   1379\u001B[0m \u001B[38;5;28;01melse\u001B[39;00m:\n\u001B[1;32m-> 1380\u001B[0m     \u001B[38;5;28;01mreturn\u001B[39;00m \u001B[43mmeth\u001B[49m\u001B[43m(\u001B[49m\u001B[38;5;28;43mself\u001B[39;49m\u001B[43m,\u001B[49m\u001B[43m \u001B[49m\u001B[43mmultiparams\u001B[49m\u001B[43m,\u001B[49m\u001B[43m \u001B[49m\u001B[43mparams\u001B[49m\u001B[43m,\u001B[49m\u001B[43m \u001B[49m\u001B[43m_EMPTY_EXECUTION_OPTS\u001B[49m\u001B[43m)\u001B[49m\n",
      "File \u001B[1;32mc:\\users\\victo\\pycharmprojects\\pythonproject3\\venv\\lib\\site-packages\\sqlalchemy\\sql\\elements.py:333\u001B[0m, in \u001B[0;36mClauseElement._execute_on_connection\u001B[1;34m(self, connection, multiparams, params, execution_options, _force)\u001B[0m\n\u001B[0;32m    329\u001B[0m \u001B[38;5;28;01mdef\u001B[39;00m \u001B[38;5;21m_execute_on_connection\u001B[39m(\n\u001B[0;32m    330\u001B[0m     \u001B[38;5;28mself\u001B[39m, connection, multiparams, params, execution_options, _force\u001B[38;5;241m=\u001B[39m\u001B[38;5;28;01mFalse\u001B[39;00m\n\u001B[0;32m    331\u001B[0m ):\n\u001B[0;32m    332\u001B[0m     \u001B[38;5;28;01mif\u001B[39;00m _force \u001B[38;5;129;01mor\u001B[39;00m \u001B[38;5;28mself\u001B[39m\u001B[38;5;241m.\u001B[39msupports_execution:\n\u001B[1;32m--> 333\u001B[0m         \u001B[38;5;28;01mreturn\u001B[39;00m \u001B[43mconnection\u001B[49m\u001B[38;5;241;43m.\u001B[39;49m\u001B[43m_execute_clauseelement\u001B[49m\u001B[43m(\u001B[49m\n\u001B[0;32m    334\u001B[0m \u001B[43m            \u001B[49m\u001B[38;5;28;43mself\u001B[39;49m\u001B[43m,\u001B[49m\u001B[43m \u001B[49m\u001B[43mmultiparams\u001B[49m\u001B[43m,\u001B[49m\u001B[43m \u001B[49m\u001B[43mparams\u001B[49m\u001B[43m,\u001B[49m\u001B[43m \u001B[49m\u001B[43mexecution_options\u001B[49m\n\u001B[0;32m    335\u001B[0m \u001B[43m        \u001B[49m\u001B[43m)\u001B[49m\n\u001B[0;32m    336\u001B[0m     \u001B[38;5;28;01melse\u001B[39;00m:\n\u001B[0;32m    337\u001B[0m         \u001B[38;5;28;01mraise\u001B[39;00m exc\u001B[38;5;241m.\u001B[39mObjectNotExecutableError(\u001B[38;5;28mself\u001B[39m)\n",
      "File \u001B[1;32mc:\\users\\victo\\pycharmprojects\\pythonproject3\\venv\\lib\\site-packages\\sqlalchemy\\engine\\base.py:1572\u001B[0m, in \u001B[0;36mConnection._execute_clauseelement\u001B[1;34m(self, elem, multiparams, params, execution_options)\u001B[0m\n\u001B[0;32m   1560\u001B[0m compiled_cache \u001B[38;5;241m=\u001B[39m execution_options\u001B[38;5;241m.\u001B[39mget(\n\u001B[0;32m   1561\u001B[0m     \u001B[38;5;124m\"\u001B[39m\u001B[38;5;124mcompiled_cache\u001B[39m\u001B[38;5;124m\"\u001B[39m, \u001B[38;5;28mself\u001B[39m\u001B[38;5;241m.\u001B[39mengine\u001B[38;5;241m.\u001B[39m_compiled_cache\n\u001B[0;32m   1562\u001B[0m )\n\u001B[0;32m   1564\u001B[0m compiled_sql, extracted_params, cache_hit \u001B[38;5;241m=\u001B[39m elem\u001B[38;5;241m.\u001B[39m_compile_w_cache(\n\u001B[0;32m   1565\u001B[0m     dialect\u001B[38;5;241m=\u001B[39mdialect,\n\u001B[0;32m   1566\u001B[0m     compiled_cache\u001B[38;5;241m=\u001B[39mcompiled_cache,\n\u001B[1;32m   (...)\u001B[0m\n\u001B[0;32m   1570\u001B[0m     linting\u001B[38;5;241m=\u001B[39m\u001B[38;5;28mself\u001B[39m\u001B[38;5;241m.\u001B[39mdialect\u001B[38;5;241m.\u001B[39mcompiler_linting \u001B[38;5;241m|\u001B[39m compiler\u001B[38;5;241m.\u001B[39mWARN_LINTING,\n\u001B[0;32m   1571\u001B[0m )\n\u001B[1;32m-> 1572\u001B[0m ret \u001B[38;5;241m=\u001B[39m \u001B[38;5;28;43mself\u001B[39;49m\u001B[38;5;241;43m.\u001B[39;49m\u001B[43m_execute_context\u001B[49m\u001B[43m(\u001B[49m\n\u001B[0;32m   1573\u001B[0m \u001B[43m    \u001B[49m\u001B[43mdialect\u001B[49m\u001B[43m,\u001B[49m\n\u001B[0;32m   1574\u001B[0m \u001B[43m    \u001B[49m\u001B[43mdialect\u001B[49m\u001B[38;5;241;43m.\u001B[39;49m\u001B[43mexecution_ctx_cls\u001B[49m\u001B[38;5;241;43m.\u001B[39;49m\u001B[43m_init_compiled\u001B[49m\u001B[43m,\u001B[49m\n\u001B[0;32m   1575\u001B[0m \u001B[43m    \u001B[49m\u001B[43mcompiled_sql\u001B[49m\u001B[43m,\u001B[49m\n\u001B[0;32m   1576\u001B[0m \u001B[43m    \u001B[49m\u001B[43mdistilled_params\u001B[49m\u001B[43m,\u001B[49m\n\u001B[0;32m   1577\u001B[0m \u001B[43m    \u001B[49m\u001B[43mexecution_options\u001B[49m\u001B[43m,\u001B[49m\n\u001B[0;32m   1578\u001B[0m \u001B[43m    \u001B[49m\u001B[43mcompiled_sql\u001B[49m\u001B[43m,\u001B[49m\n\u001B[0;32m   1579\u001B[0m \u001B[43m    \u001B[49m\u001B[43mdistilled_params\u001B[49m\u001B[43m,\u001B[49m\n\u001B[0;32m   1580\u001B[0m \u001B[43m    \u001B[49m\u001B[43melem\u001B[49m\u001B[43m,\u001B[49m\n\u001B[0;32m   1581\u001B[0m \u001B[43m    \u001B[49m\u001B[43mextracted_params\u001B[49m\u001B[43m,\u001B[49m\n\u001B[0;32m   1582\u001B[0m \u001B[43m    \u001B[49m\u001B[43mcache_hit\u001B[49m\u001B[38;5;241;43m=\u001B[39;49m\u001B[43mcache_hit\u001B[49m\u001B[43m,\u001B[49m\n\u001B[0;32m   1583\u001B[0m \u001B[43m\u001B[49m\u001B[43m)\u001B[49m\n\u001B[0;32m   1584\u001B[0m \u001B[38;5;28;01mif\u001B[39;00m has_events:\n\u001B[0;32m   1585\u001B[0m     \u001B[38;5;28mself\u001B[39m\u001B[38;5;241m.\u001B[39mdispatch\u001B[38;5;241m.\u001B[39mafter_execute(\n\u001B[0;32m   1586\u001B[0m         \u001B[38;5;28mself\u001B[39m,\n\u001B[0;32m   1587\u001B[0m         elem,\n\u001B[1;32m   (...)\u001B[0m\n\u001B[0;32m   1591\u001B[0m         ret,\n\u001B[0;32m   1592\u001B[0m     )\n",
      "File \u001B[1;32mc:\\users\\victo\\pycharmprojects\\pythonproject3\\venv\\lib\\site-packages\\sqlalchemy\\engine\\base.py:1943\u001B[0m, in \u001B[0;36mConnection._execute_context\u001B[1;34m(self, dialect, constructor, statement, parameters, execution_options, *args, **kw)\u001B[0m\n\u001B[0;32m   1940\u001B[0m             branched\u001B[38;5;241m.\u001B[39mclose()\n\u001B[0;32m   1942\u001B[0m \u001B[38;5;28;01mexcept\u001B[39;00m \u001B[38;5;167;01mBaseException\u001B[39;00m \u001B[38;5;28;01mas\u001B[39;00m e:\n\u001B[1;32m-> 1943\u001B[0m     \u001B[38;5;28;43mself\u001B[39;49m\u001B[38;5;241;43m.\u001B[39;49m\u001B[43m_handle_dbapi_exception\u001B[49m\u001B[43m(\u001B[49m\n\u001B[0;32m   1944\u001B[0m \u001B[43m        \u001B[49m\u001B[43me\u001B[49m\u001B[43m,\u001B[49m\u001B[43m \u001B[49m\u001B[43mstatement\u001B[49m\u001B[43m,\u001B[49m\u001B[43m \u001B[49m\u001B[43mparameters\u001B[49m\u001B[43m,\u001B[49m\u001B[43m \u001B[49m\u001B[43mcursor\u001B[49m\u001B[43m,\u001B[49m\u001B[43m \u001B[49m\u001B[43mcontext\u001B[49m\n\u001B[0;32m   1945\u001B[0m \u001B[43m    \u001B[49m\u001B[43m)\u001B[49m\n\u001B[0;32m   1947\u001B[0m \u001B[38;5;28;01mreturn\u001B[39;00m result\n",
      "File \u001B[1;32mc:\\users\\victo\\pycharmprojects\\pythonproject3\\venv\\lib\\site-packages\\sqlalchemy\\engine\\base.py:2124\u001B[0m, in \u001B[0;36mConnection._handle_dbapi_exception\u001B[1;34m(self, e, statement, parameters, cursor, context)\u001B[0m\n\u001B[0;32m   2122\u001B[0m     util\u001B[38;5;241m.\u001B[39mraise_(newraise, with_traceback\u001B[38;5;241m=\u001B[39mexc_info[\u001B[38;5;241m2\u001B[39m], from_\u001B[38;5;241m=\u001B[39me)\n\u001B[0;32m   2123\u001B[0m \u001B[38;5;28;01melif\u001B[39;00m should_wrap:\n\u001B[1;32m-> 2124\u001B[0m     \u001B[43mutil\u001B[49m\u001B[38;5;241;43m.\u001B[39;49m\u001B[43mraise_\u001B[49m\u001B[43m(\u001B[49m\n\u001B[0;32m   2125\u001B[0m \u001B[43m        \u001B[49m\u001B[43msqlalchemy_exception\u001B[49m\u001B[43m,\u001B[49m\u001B[43m \u001B[49m\u001B[43mwith_traceback\u001B[49m\u001B[38;5;241;43m=\u001B[39;49m\u001B[43mexc_info\u001B[49m\u001B[43m[\u001B[49m\u001B[38;5;241;43m2\u001B[39;49m\u001B[43m]\u001B[49m\u001B[43m,\u001B[49m\u001B[43m \u001B[49m\u001B[43mfrom_\u001B[49m\u001B[38;5;241;43m=\u001B[39;49m\u001B[43me\u001B[49m\n\u001B[0;32m   2126\u001B[0m \u001B[43m    \u001B[49m\u001B[43m)\u001B[49m\n\u001B[0;32m   2127\u001B[0m \u001B[38;5;28;01melse\u001B[39;00m:\n\u001B[0;32m   2128\u001B[0m     util\u001B[38;5;241m.\u001B[39mraise_(exc_info[\u001B[38;5;241m1\u001B[39m], with_traceback\u001B[38;5;241m=\u001B[39mexc_info[\u001B[38;5;241m2\u001B[39m])\n",
      "File \u001B[1;32mc:\\users\\victo\\pycharmprojects\\pythonproject3\\venv\\lib\\site-packages\\sqlalchemy\\util\\compat.py:208\u001B[0m, in \u001B[0;36mraise_\u001B[1;34m(***failed resolving arguments***)\u001B[0m\n\u001B[0;32m    205\u001B[0m     exception\u001B[38;5;241m.\u001B[39m__cause__ \u001B[38;5;241m=\u001B[39m replace_context\n\u001B[0;32m    207\u001B[0m \u001B[38;5;28;01mtry\u001B[39;00m:\n\u001B[1;32m--> 208\u001B[0m     \u001B[38;5;28;01mraise\u001B[39;00m exception\n\u001B[0;32m    209\u001B[0m \u001B[38;5;28;01mfinally\u001B[39;00m:\n\u001B[0;32m    210\u001B[0m     \u001B[38;5;66;03m# credit to\u001B[39;00m\n\u001B[0;32m    211\u001B[0m     \u001B[38;5;66;03m# https://cosmicpercolator.com/2016/01/13/exception-leaks-in-python-2-and-3/\u001B[39;00m\n\u001B[0;32m    212\u001B[0m     \u001B[38;5;66;03m# as the __traceback__ object creates a cycle\u001B[39;00m\n\u001B[0;32m    213\u001B[0m     \u001B[38;5;28;01mdel\u001B[39;00m exception, replace_context, from_, with_traceback\n",
      "File \u001B[1;32mc:\\users\\victo\\pycharmprojects\\pythonproject3\\venv\\lib\\site-packages\\sqlalchemy\\engine\\base.py:1880\u001B[0m, in \u001B[0;36mConnection._execute_context\u001B[1;34m(self, dialect, constructor, statement, parameters, execution_options, *args, **kw)\u001B[0m\n\u001B[0;32m   1878\u001B[0m                 \u001B[38;5;28;01mbreak\u001B[39;00m\n\u001B[0;32m   1879\u001B[0m     \u001B[38;5;28;01mif\u001B[39;00m \u001B[38;5;129;01mnot\u001B[39;00m evt_handled:\n\u001B[1;32m-> 1880\u001B[0m         \u001B[38;5;28;43mself\u001B[39;49m\u001B[38;5;241;43m.\u001B[39;49m\u001B[43mdialect\u001B[49m\u001B[38;5;241;43m.\u001B[39;49m\u001B[43mdo_executemany\u001B[49m\u001B[43m(\u001B[49m\n\u001B[0;32m   1881\u001B[0m \u001B[43m            \u001B[49m\u001B[43mcursor\u001B[49m\u001B[43m,\u001B[49m\u001B[43m \u001B[49m\u001B[43mstatement\u001B[49m\u001B[43m,\u001B[49m\u001B[43m \u001B[49m\u001B[43mparameters\u001B[49m\u001B[43m,\u001B[49m\u001B[43m \u001B[49m\u001B[43mcontext\u001B[49m\n\u001B[0;32m   1882\u001B[0m \u001B[43m        \u001B[49m\u001B[43m)\u001B[49m\n\u001B[0;32m   1883\u001B[0m \u001B[38;5;28;01melif\u001B[39;00m \u001B[38;5;129;01mnot\u001B[39;00m parameters \u001B[38;5;129;01mand\u001B[39;00m context\u001B[38;5;241m.\u001B[39mno_parameters:\n\u001B[0;32m   1884\u001B[0m     \u001B[38;5;28;01mif\u001B[39;00m \u001B[38;5;28mself\u001B[39m\u001B[38;5;241m.\u001B[39mdialect\u001B[38;5;241m.\u001B[39m_has_events:\n",
      "File \u001B[1;32mc:\\users\\victo\\pycharmprojects\\pythonproject3\\venv\\lib\\site-packages\\sqlalchemy\\engine\\default.py:733\u001B[0m, in \u001B[0;36mDefaultDialect.do_executemany\u001B[1;34m(self, cursor, statement, parameters, context)\u001B[0m\n\u001B[0;32m    732\u001B[0m \u001B[38;5;28;01mdef\u001B[39;00m \u001B[38;5;21mdo_executemany\u001B[39m(\u001B[38;5;28mself\u001B[39m, cursor, statement, parameters, context\u001B[38;5;241m=\u001B[39m\u001B[38;5;28;01mNone\u001B[39;00m):\n\u001B[1;32m--> 733\u001B[0m     \u001B[43mcursor\u001B[49m\u001B[38;5;241;43m.\u001B[39;49m\u001B[43mexecutemany\u001B[49m\u001B[43m(\u001B[49m\u001B[43mstatement\u001B[49m\u001B[43m,\u001B[49m\u001B[43m \u001B[49m\u001B[43mparameters\u001B[49m\u001B[43m)\u001B[49m\n",
      "\u001B[1;31mInterfaceError\u001B[0m: (sqlite3.InterfaceError) Error binding parameter 2 - probably unsupported type.\n[SQL: INSERT INTO tweets_data (\"index\", created_at, edit_history_tweet_ids, id, text, score) VALUES (?, ?, ?, ?, ?, ?)]\n[parameters: ((0, '2022-10-17T15:22:25.000Z', ['1582029271799070721'], '1582029271799070721', 'RT @VDemokratie: Die #Gruenen verschenken auf dem #bdk22 Pflanzen, die ihren Ursprung in #Brasilien haben. Diese sind schwer zu pflegen und…', -0.0772), (1, '2022-10-17T15:22:23.000Z', ['1582029261304524801'], '1582029261304524801', 'RT @FPOE_Raaba: Diese #Asylkrise trägt auch zu 50 Prozent die Handschrift der #Grünen! \\n#ÖVP\\n#Nehammer\\n#Kogler\\n#Migranten https://t.co/X5bh…', 0.0), (2, '2022-10-17T15:22:12.000Z', ['1582029216949841921'], '1582029216949841921', '@CSchwenniger @florianklenk @ArminWolf @KernChri @GNiederm Ich Akzeptiere deine Meinung!  Wie schon zuvor geschrieben, in einer #SPÖ kannst du nur ve ... (39 characters truncated) ... tein-Affäre  2017 bis 2001\\nDr. Heinrich Gross-Affäre NS-Täter 1945 - 2005*\\nLucona-Affäre 1977 bis 1992\\nKindesmissbrauch-Affäre der 60er 70er Jahre', 'Nan'), (3, '2022-10-17T15:21:04.000Z', ['1582028930395279360'], '1582028930395279360', 'RT @ashr61: SKANDAL: Warum wird uns verschwiegen! #CDU, #SPD, #FDP und #Grüne wollen Deutschland vernichten.\\nAnders ist es nicht zu erkläre…', -0.8452), (4, '2022-10-17T15:20:33.000Z', ['1582028802649382918'], '1582028802649382918', 'RT @AfDLindemann: #Grüne sind jetzt Kriegspartei. Gestern hat der Bundesparteitag der Grünen für Waffenlieferungen in fie #Ukraine gestimmt…', 0.0), (5, '2022-10-17T15:19:59.000Z', ['1582028660496007171'], '1582028660496007171', 'Früher: #Grüne liefern keine Waffen, weil sie Friedenspartei sind. Jetzt #Waffenlieferungen, weil Friedenspartei.\\nWidersprüchlicher geht es nicht mehr.', -0.3818), (6, '2022-10-17T15:19:49.000Z', ['1582028614866178048'], '1582028614866178048', 'RT @W_Munny001: @julia_jusa1 Ja klar, siehe #Ampel/#Grüne', 0.3182), (7, '2022-10-17T15:18:21.000Z', ['1582028245905461252'], '1582028245905461252', 'RT @Axel_Steier: 6 Jahre für @giz_gmbh gearbeitet, Hazara, Frau, verfolgt von Taliban – Aufnahme abgelehnt von der Bundesregierung. Danke f…', 0.1531)  ... displaying 10 of 100 total bound parameter sets ...  (98, '2022-10-17T14:14:37.000Z', ['1582012208933851136'], '1582012208933851136', 'Deutschland, Winter 2022/2023...? 😳\\n#GrünerMist #Grüne https://t.co/RlChQVGtz7', 0.0), (99, '2022-10-17T14:13:54.000Z', ['1582012029594140676'], '1582012029594140676', '@KosterIm @b_gabelle @rendiwagner @KernChri @WKogler Politisches Kalkül war der #spö #prw immer schon wichtiger als redliche Arbeit', 0.4019))]\n(Background on this error at: https://sqlalche.me/e/14/rvf5)"
     ]
    }
   ],
   "source": [
    "from sqlalchemy import create_engine\n",
    "from sqlalchemy_utils import database_exists, create_database\n",
    "\n",
    "engine = create_engine(\"sqlite:///tweet_test.sqlite\")\n",
    "if not database_exists(engine.url):\n",
    "     # Neue Datenbank anlegen\n",
    "     create_database(engine.url)\n",
    "\n",
    "# Tweet in die Datenbank speichern\n",
    "df.to_sql('tweet_data', con=engine, if_exists='append')\n"
   ]
  }
 ],
 "metadata": {
  "kernelspec": {
   "display_name": "Python 3 (ipykernel)",
   "language": "python",
   "name": "python3"
  },
  "language_info": {
   "codemirror_mode": {
    "name": "ipython",
    "version": 3
   },
   "file_extension": ".py",
   "mimetype": "text/x-python",
   "name": "python",
   "nbconvert_exporter": "python",
   "pygments_lexer": "ipython3",
   "version": "3.9.12"
  }
 },
 "nbformat": 4,
 "nbformat_minor": 5
}
